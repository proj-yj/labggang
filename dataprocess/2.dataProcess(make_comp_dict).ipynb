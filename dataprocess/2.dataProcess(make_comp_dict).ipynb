{
 "cells": [
  {
   "cell_type": "code",
   "execution_count": 1,
   "metadata": {},
   "outputs": [],
   "source": [
    "import numpy as np\n",
    "import view_atoms_gan\n",
    "import pickle\n",
    "from ase.io import read,write\n",
    "from ase import Atoms,Atom\n",
    "from tqdm import tqdm\n",
    "from collections import Counter"
   ]
  },
  {
   "cell_type": "code",
   "execution_count": 2,
   "metadata": {},
   "outputs": [
    {
     "name": "stderr",
     "output_type": "stream",
     "text": [
      "100%|██████████| 114/114 [00:00<00:00, 3454.52it/s]"
     ]
    },
    {
     "name": "stdout",
     "output_type": "stream",
     "text": [
      "Counter({'12_16': 16, '24_32': 9, '8_16': 7, '8_12': 5, '16_24': 5, '2_2': 5, '4_4': 5, '2_4': 4, '12_18': 3, '12_24': 3, '4_8': 3, '40_40': 3, '10_11': 2, '6_8': 2, '8_26': 2, '20_32': 2, '3_6': 2, '12_12': 2, '17_18': 1, '20_22': 1, '11_12': 1, '36_39': 1, '13_15': 1, '26_38': 1, '28_30': 1, '15_16': 1, '21_23': 1, '23_25': 1, '23_32': 1, '2_3': 1, '4_10': 1, '32_35': 1, '35_36': 1, '38_39': 1, '6_2': 1, '3_4': 1, '16_20': 1, '10_14': 1, '20_28': 1, '15_24': 1, '14_16': 1, '28_32': 1, '21_27': 1, '16_34': 1, '16_18': 1, '8_9': 1, '9_10': 1, '18_26': 1, '1_2': 1, '16_32': 1, '4_12': 1, '8_8': 1})\n"
     ]
    },
    {
     "name": "stderr",
     "output_type": "stream",
     "text": [
      "\n"
     ]
    }
   ],
   "source": [
    "#numpy array로 저장된 length, angle, pos데이터를 불러온다.\n",
    "dat = np.load('unique_FeO.npy')\n",
    "#이름이 저장된 파일을 불러온다.\n",
    "with open(\"unique_FeO_name_list\", 'rb') as f:\n",
    "    name_list = pickle.load(f)\n",
    "comp_image_dict = {}\n",
    "comp_dict = []\n",
    "# n_v_list =[]\n",
    "# n_o_list = []\n",
    "#tqdm의 경우 진행상황을 보여주는 파이썬 tool이다.\n",
    "for i in tqdm(range(dat.shape[0])):\n",
    "    image = dat[i]\n",
    "    name_index = name_list[i]\n",
    "    #atom은 실제 정보, image는 우리가 후처리한 정보이다.\n",
    "    atoms, image = view_atoms_gan.view_atoms(image,view=False)\n",
    "    s = atoms.get_chemical_symbols()\n",
    "    n_fe = s.count('Fe')\n",
    "    n_o = s.count('O')\n",
    "    # comp = mg갯수_mn갯수_o갯수\n",
    "    comp = str(n_fe)+'_'+str(n_o)\n",
    "    comp_dict.append(comp)\n",
    "    dict_keys = comp_image_dict.keys()\n",
    "    if not comp in dict_keys:\n",
    "        comp_image_dict[comp] = [(image,name_index)]\n",
    "    else:\n",
    "        temp_list = comp_image_dict[comp]\n",
    "        temp_list.append((image,name_index))\n",
    "\n",
    "with open('unique_FeO_comp_dict','wb') as f:\n",
    "    pickle.dump(comp_image_dict,f)\n",
    "\n",
    "print(Counter(comp_dict))"
   ]
  },
  {
   "cell_type": "code",
   "execution_count": null,
   "metadata": {},
   "outputs": [],
   "source": []
  }
 ],
 "metadata": {
  "kernelspec": {
   "display_name": "yj",
   "language": "python",
   "name": "python3"
  },
  "language_info": {
   "codemirror_mode": {
    "name": "ipython",
    "version": 3
   },
   "file_extension": ".py",
   "mimetype": "text/x-python",
   "name": "python",
   "nbconvert_exporter": "python",
   "pygments_lexer": "ipython3",
   "version": "3.9.12"
  },
  "orig_nbformat": 4,
  "vscode": {
   "interpreter": {
    "hash": "2f3f8e1abd649d9fc3399912cee587738e732fa615f8541ef8cdc0f39a7fdc6d"
   }
  }
 },
 "nbformat": 4,
 "nbformat_minor": 2
}
