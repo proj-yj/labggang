{
 "cells": [
  {
   "cell_type": "code",
   "execution_count": 1,
   "metadata": {},
   "outputs": [],
   "source": [
    "import glob\n",
    "import pickle\n",
    "import numpy as np"
   ]
  },
  {
   "cell_type": "code",
   "execution_count": 2,
   "metadata": {},
   "outputs": [
    {
     "name": "stdout",
     "output_type": "stream",
     "text": [
      "(219, 82, 3)\n",
      "(114, 82, 3)\n",
      "219\n",
      "114\n",
      "(333, 82, 3)\n",
      "333\n"
     ]
    }
   ],
   "source": [
    "with open(\"supercell_only_name_list\",'rb') as f:\n",
    "    sc_name_list = pickle.load(f)\n",
    "with open(\"unique_FeO_name_list\",'rb') as f:\n",
    "    name_list = pickle.load(f)\n",
    "\n",
    "sc = np.load(\"supercell_only.npy\" )\n",
    "images = np.load(\"unique_FeO.npy\")\n",
    "\n",
    "\n",
    "print(sc.shape)\n",
    "print(images.shape)\n",
    "\n",
    "print(len(sc_name_list))\n",
    "print(len(name_list))\n",
    "\n",
    "\n",
    "result = np.vstack((images,sc))\n",
    "result_name = name_list+sc_name_list\n",
    "\n",
    "print(result.shape)\n",
    "print(len(result_name))\n",
    "\n",
    "\n",
    "np.save('unique_sc_FeO' , result)\n",
    "with open(\"unique_sc_FeO_name_list\", 'wb') as f:\n",
    "    pickle.dump(result_name, f)"
   ]
  },
  {
   "cell_type": "code",
   "execution_count": null,
   "metadata": {},
   "outputs": [],
   "source": []
  }
 ],
 "metadata": {
  "kernelspec": {
   "display_name": "yj",
   "language": "python",
   "name": "python3"
  },
  "language_info": {
   "codemirror_mode": {
    "name": "ipython",
    "version": 3
   },
   "file_extension": ".py",
   "mimetype": "text/x-python",
   "name": "python",
   "nbconvert_exporter": "python",
   "pygments_lexer": "ipython3",
   "version": "3.9.12"
  },
  "orig_nbformat": 4,
  "vscode": {
   "interpreter": {
    "hash": "2f3f8e1abd649d9fc3399912cee587738e732fa615f8541ef8cdc0f39a7fdc6d"
   }
  }
 },
 "nbformat": 4,
 "nbformat_minor": 2
}
