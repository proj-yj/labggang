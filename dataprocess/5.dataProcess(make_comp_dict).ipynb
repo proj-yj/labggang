{
 "cells": [
  {
   "cell_type": "code",
   "execution_count": 1,
   "metadata": {},
   "outputs": [],
   "source": [
    "import numpy as np\n",
    "import view_atoms_gan\n",
    "import pickle\n",
    "from ase.io import read,write\n",
    "# from ase import Atoms,Atom\n",
    "from tqdm import tqdm\n",
    "# from collections import Counter"
   ]
  },
  {
   "cell_type": "code",
   "execution_count": 2,
   "metadata": {},
   "outputs": [
    {
     "name": "stderr",
     "output_type": "stream",
     "text": [
      "100%|██████████| 333/333 [00:00<00:00, 3784.10it/s]\n"
     ]
    }
   ],
   "source": [
    "dat = np.load('unique_sc_FeO.npy')\n",
    "with open(\"unique_sc_FeO_name_list\", 'rb') as f:\n",
    "    name_list = pickle.load(f)\n",
    "comp_image_dict = {}\n",
    "comp_dict = []\n",
    "# n_v_list =[]\n",
    "# n_o_list = []\n",
    "\n",
    "for i in tqdm(range(dat.shape[0])):\n",
    "    image = dat[i]\n",
    "    name_index = name_list[i]\n",
    "    atoms, image = view_atoms_gan.view_atoms(image,view=False)\n",
    "    s = atoms.get_chemical_symbols()\n",
    "    n_fe = s.count('Fe')\n",
    "    n_o = s.count('O')\n",
    "    comp = str(n_fe)+'_'+str(n_o)\n",
    "    comp_dict.append(comp)\n",
    "    dict_keys = comp_image_dict.keys()\n",
    "    if not comp in dict_keys:\n",
    "        comp_image_dict[comp] = [(image,name_index)]\n",
    "    else:\n",
    "        temp_list = comp_image_dict[comp]\n",
    "        temp_list.append((image,name_index))\n",
    "\n",
    "with open('unique_sc_FeO_comp_dict','wb') as f:\n",
    "    pickle.dump(comp_image_dict,f)\n"
   ]
  },
  {
   "cell_type": "code",
   "execution_count": null,
   "metadata": {},
   "outputs": [],
   "source": []
  }
 ],
 "metadata": {
  "kernelspec": {
   "display_name": "yj",
   "language": "python",
   "name": "python3"
  },
  "language_info": {
   "codemirror_mode": {
    "name": "ipython",
    "version": 3
   },
   "file_extension": ".py",
   "mimetype": "text/x-python",
   "name": "python",
   "nbconvert_exporter": "python",
   "pygments_lexer": "ipython3",
   "version": "3.9.12"
  },
  "orig_nbformat": 4,
  "vscode": {
   "interpreter": {
    "hash": "2f3f8e1abd649d9fc3399912cee587738e732fa615f8541ef8cdc0f39a7fdc6d"
   }
  }
 },
 "nbformat": 4,
 "nbformat_minor": 2
}
